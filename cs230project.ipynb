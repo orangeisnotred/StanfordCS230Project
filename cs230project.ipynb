{
 "cells": [
  {
   "cell_type": "code",
   "execution_count": 4,
   "metadata": {},
   "outputs": [],
   "source": [
    "import tensorflow as tf\n",
    "\n",
    "from tensorflow.keras.datasets import mnist, cifar10, cifar100\n",
    "\n",
    "from tensorflow.keras import Sequential\n",
    "from tensorflow.keras.callbacks import LambdaCallback\n",
    "from tensorflow.keras.layers import Conv2D, MaxPooling2D, Dropout, Dense, Flatten, Activation\n",
    "\n",
    "import numpy as np\n",
    "import random\n",
    "\n",
    "import matplotlib.pyplot as plt"
   ]
  },
  {
   "cell_type": "code",
   "execution_count": null,
   "metadata": {},
   "outputs": [
    {
     "name": "stdout",
     "output_type": "stream",
     "text": [
      "Downloading data from https://storage.googleapis.com/tensorflow/tf-keras-datasets/mnist.npz\n",
      "11490434/11490434 [==============================] - 0s 0us/step\n",
      "Data shapes (10000, 28, 28, 1) (10000, 10) (60000, 28, 28, 1) (60000, 10)\n"
     ]
    }
   ],
   "source": [
    "(x_train, y_train), (x_test, y_test) = mnist.load_data()\n",
    "labels = ['zero', 'one', 'two', 'three', 'four', 'five', 'six', 'seven', 'eight', 'nine']\n",
    "\n",
    "# Process the data, normalize it, reshape it, and one-hot-encode the labels\n",
    "img_rows, img_cols, channels = 28, 28, 1\n",
    "num_classes = 10\n",
    "\n",
    "x_train = x_train / 255\n",
    "x_test = x_test / 255\n",
    "\n",
    "x_train = x_train.reshape((-1, img_rows, img_cols, channels))\n",
    "x_test = x_test.reshape((-1, img_rows, img_cols, channels))\n",
    "\n",
    "y_train = tf.keras.utils.to_categorical(y_train, num_classes)\n",
    "y_test = tf.keras.utils.to_categorical(y_test, num_classes)\n",
    "\n",
    "print(\"Data shapes\", x_test.shape, y_test.shape, x_train.shape, y_train.shape)"
   ]
  },
  {
   "cell_type": "code",
   "execution_count": 5,
   "metadata": {},
   "outputs": [],
   "source": [
    "def create_model():\n",
    "    model = Sequential()\n",
    "    model.add(Conv2D(32, kernel_size=(3, 3), strides=(3, 3), padding='same', activation='relu', input_shape=(img_rows, img_cols, channels)))\n",
    "    model.add(Conv2D(64, kernel_size=(3, 3), strides=(3, 3), padding='same', activation='relu'))\n",
    "    model.add(Conv2D(64, kernel_size=(3, 3), strides=(3, 3), padding='same', activation='relu'))\n",
    "    model.add(MaxPooling2D(pool_size=(2, 2)))\n",
    "    model.add(Dropout(0.2))\n",
    "    model.add(Flatten())\n",
    "    model.add(Dense(32))\n",
    "    model.add(Dropout(0.2))\n",
    "    model.add(Dense(32))\n",
    "    model.add(Dropout(0.2))\n",
    "    model.add(Dense(num_classes, activation='softmax'))\n",
    "\n",
    "    model.compile(optimizer='adam', loss='mse', metrics=['accuracy'])\n",
    "    \n",
    "    return model\n",
    "\n",
    "model = create_model()"
   ]
  },
  {
   "cell_type": "code",
   "execution_count": 6,
   "metadata": {},
   "outputs": [
    {
     "name": "stdout",
     "output_type": "stream",
     "text": [
      "Epoch 1/20\n",
      "1875/1875 [==============================] - 29s 15ms/step - loss: 0.0196 - accuracy: 0.8640 - val_loss: 0.0067 - val_accuracy: 0.9548\n",
      "Epoch 2/20\n",
      "1875/1875 [==============================] - 28s 15ms/step - loss: 0.0093 - accuracy: 0.9391 - val_loss: 0.0049 - val_accuracy: 0.9679\n",
      "Epoch 3/20\n",
      "1875/1875 [==============================] - 32s 17ms/step - loss: 0.0073 - accuracy: 0.9532 - val_loss: 0.0043 - val_accuracy: 0.9710\n",
      "Epoch 4/20\n",
      "1875/1875 [==============================] - 23s 12ms/step - loss: 0.0067 - accuracy: 0.9571 - val_loss: 0.0042 - val_accuracy: 0.9722\n",
      "Epoch 5/20\n",
      "1875/1875 [==============================] - 23s 12ms/step - loss: 0.0058 - accuracy: 0.9624 - val_loss: 0.0035 - val_accuracy: 0.9773\n",
      "Epoch 6/20\n",
      "1875/1875 [==============================] - 33s 18ms/step - loss: 0.0055 - accuracy: 0.9649 - val_loss: 0.0039 - val_accuracy: 0.9740\n",
      "Epoch 7/20\n",
      "1875/1875 [==============================] - 27s 15ms/step - loss: 0.0050 - accuracy: 0.9685 - val_loss: 0.0039 - val_accuracy: 0.9747\n",
      "Epoch 8/20\n",
      "1875/1875 [==============================] - 27s 14ms/step - loss: 0.0047 - accuracy: 0.9702 - val_loss: 0.0034 - val_accuracy: 0.9794\n",
      "Epoch 9/20\n",
      "1875/1875 [==============================] - 25s 13ms/step - loss: 0.0045 - accuracy: 0.9714 - val_loss: 0.0034 - val_accuracy: 0.9796\n",
      "Epoch 10/20\n",
      "1875/1875 [==============================] - 26s 14ms/step - loss: 0.0043 - accuracy: 0.9726 - val_loss: 0.0034 - val_accuracy: 0.9788\n",
      "Epoch 11/20\n",
      "1875/1875 [==============================] - 24s 13ms/step - loss: 0.0040 - accuracy: 0.9742 - val_loss: 0.0033 - val_accuracy: 0.9801\n",
      "Epoch 12/20\n",
      "1875/1875 [==============================] - 29s 15ms/step - loss: 0.0040 - accuracy: 0.9751 - val_loss: 0.0034 - val_accuracy: 0.9787\n",
      "Epoch 13/20\n",
      "1875/1875 [==============================] - 26s 14ms/step - loss: 0.0039 - accuracy: 0.9753 - val_loss: 0.0034 - val_accuracy: 0.9790\n",
      "Epoch 14/20\n",
      "1875/1875 [==============================] - 23s 12ms/step - loss: 0.0038 - accuracy: 0.9762 - val_loss: 0.0035 - val_accuracy: 0.9776\n",
      "Epoch 15/20\n",
      "1875/1875 [==============================] - 22s 12ms/step - loss: 0.0037 - accuracy: 0.9767 - val_loss: 0.0031 - val_accuracy: 0.9810\n",
      "Epoch 16/20\n",
      "1875/1875 [==============================] - 31s 16ms/step - loss: 0.0035 - accuracy: 0.9786 - val_loss: 0.0032 - val_accuracy: 0.9808\n",
      "Epoch 17/20\n",
      "1875/1875 [==============================] - 28s 15ms/step - loss: 0.0033 - accuracy: 0.9790 - val_loss: 0.0032 - val_accuracy: 0.9795\n",
      "Epoch 18/20\n",
      "1875/1875 [==============================] - 22s 12ms/step - loss: 0.0034 - accuracy: 0.9790 - val_loss: 0.0035 - val_accuracy: 0.9796\n",
      "Epoch 19/20\n",
      "1875/1875 [==============================] - 23s 12ms/step - loss: 0.0033 - accuracy: 0.9794 - val_loss: 0.0034 - val_accuracy: 0.9791\n",
      "Epoch 20/20\n",
      "1875/1875 [==============================] - 30s 16ms/step - loss: 0.0032 - accuracy: 0.9802 - val_loss: 0.0032 - val_accuracy: 0.9808\n"
     ]
    },
    {
     "data": {
      "text/plain": [
       "<keras.src.callbacks.History at 0x2e07c8730>"
      ]
     },
     "execution_count": 6,
     "metadata": {},
     "output_type": "execute_result"
    }
   ],
   "source": [
    "model.fit(x_train, y_train,\n",
    "          batch_size=32,\n",
    "          epochs=20,\n",
    "          validation_data=(x_test, y_test))"
   ]
  },
  {
   "cell_type": "code",
   "execution_count": 7,
   "metadata": {},
   "outputs": [
    {
     "name": "stdout",
     "output_type": "stream",
     "text": [
      "Base accuracy on regular images: [0.00320904771797359, 0.9807999730110168]\n"
     ]
    }
   ],
   "source": [
    "print(\"Base accuracy on regular images:\", model.evaluate(x=x_test, y=y_test, verbose=0))"
   ]
  },
  {
   "cell_type": "code",
   "execution_count": 8,
   "metadata": {},
   "outputs": [],
   "source": [
    "def adversarial_pattern(image, label):\n",
    "    image = tf.cast(image, tf.float32)\n",
    "    \n",
    "    with tf.GradientTape() as tape:\n",
    "        tape.watch(image)\n",
    "        prediction = model(image)\n",
    "        loss = tf.keras.losses.MSE(label, prediction)\n",
    "    \n",
    "    gradient = tape.gradient(loss, image)\n",
    "    \n",
    "    signed_grad = tf.sign(gradient)\n",
    "    \n",
    "    return signed_grad"
   ]
  },
  {
   "cell_type": "code",
   "execution_count": 9,
   "metadata": {},
   "outputs": [
    {
     "data": {
      "image/png": "[encoded data removed]",
      "text/plain": [
       "<Figure size 640x480 with 1 Axes>"
      ]
     },
     "metadata": {},
     "output_type": "display_data"
    }
   ],
   "source": [
    "# Creating an Example Adversarial Image\n",
    "image = x_train[0]\n",
    "image_label = y_train[0]\n",
    "perturbations = adversarial_pattern(image.reshape((1, img_rows, img_cols, channels)), image_label).numpy()\n",
    "adversarial = image + perturbations * 0.1\n",
    "if channels == 1:\n",
    "    plt.imshow(adversarial.reshape((img_rows, img_cols)))\n",
    "else:\n",
    "    plt.imshow(adversarial.reshape((img_rows, img_cols, channels)))\n",
    "plt.show()"
   ]
  },
  {
   "cell_type": "code",
   "execution_count": 10,
   "metadata": {},
   "outputs": [
    {
     "name": "stdout",
     "output_type": "stream",
     "text": [
      "1/1 [==============================] - 0s 114ms/step\n",
      "five\n",
      "1/1 [==============================] - 0s 20ms/step\n",
      "three\n"
     ]
    }
   ],
   "source": [
    "print(labels[model.predict(image.reshape((1, img_rows, img_cols, channels))).argmax()])\n",
    "print(labels[model.predict(adversarial).argmax()])"
   ]
  },
  {
   "cell_type": "code",
   "execution_count": 11,
   "metadata": {},
   "outputs": [],
   "source": [
    "def generate_adversarials(batch_size):\n",
    "    while True:\n",
    "        x = []\n",
    "        y = []\n",
    "        for batch in range(batch_size):\n",
    "            N = random.randint(0, 100)\n",
    "\n",
    "            label = y_train[N]\n",
    "            image = x_train[N]\n",
    "            \n",
    "            perturbations = adversarial_pattern(image.reshape((1, img_rows, img_cols, channels)), label).numpy()\n",
    "            \n",
    "            \n",
    "            epsilon = 0.1\n",
    "            adversarial = image + perturbations * epsilon\n",
    "            \n",
    "            x.append(adversarial)\n",
    "            y.append(y_train[N])\n",
    "        \n",
    "        \n",
    "        x = np.asarray(x).reshape((batch_size, img_rows, img_cols, channels))\n",
    "        y = np.asarray(y)\n",
    "        \n",
    "        yield x, y"
   ]
  },
  {
   "cell_type": "code",
   "execution_count": 12,
   "metadata": {},
   "outputs": [
    {
     "name": "stdout",
     "output_type": "stream",
     "text": [
      "Base accuracy on adversarial images: [0.1501842588186264, 0.2003999948501587]\n"
     ]
    }
   ],
   "source": [
    "x_adversarial_test, y_adversarial_test = next(generate_adversarials(10000))\n",
    "print(\"Base accuracy on adversarial images:\", model.evaluate(x=x_adversarial_test, y=y_adversarial_test, verbose=0))"
   ]
  },
  {
   "cell_type": "code",
   "execution_count": 13,
   "metadata": {},
   "outputs": [
    {
     "name": "stdout",
     "output_type": "stream",
     "text": [
      "Epoch 1/10\n",
      "625/625 [==============================] - 9s 15ms/step - loss: 0.0105 - accuracy: 0.9430 - val_loss: 0.0097 - val_accuracy: 0.9453\n",
      "Epoch 2/10\n",
      "625/625 [==============================] - 10s 16ms/step - loss: 0.0028 - accuracy: 0.9853 - val_loss: 0.0102 - val_accuracy: 0.9431\n",
      "Epoch 3/10\n",
      "625/625 [==============================] - 9s 14ms/step - loss: 0.0020 - accuracy: 0.9899 - val_loss: 0.0120 - val_accuracy: 0.9325\n",
      "Epoch 4/10\n",
      "625/625 [==============================] - 11s 17ms/step - loss: 0.0019 - accuracy: 0.9902 - val_loss: 0.0118 - val_accuracy: 0.9347\n",
      "Epoch 5/10\n",
      "625/625 [==============================] - 9s 14ms/step - loss: 0.0018 - accuracy: 0.9903 - val_loss: 0.0114 - val_accuracy: 0.9365\n",
      "Epoch 6/10\n",
      "625/625 [==============================] - 10s 15ms/step - loss: 9.8117e-05 - accuracy: 0.9993 - val_loss: 0.0116 - val_accuracy: 0.9359\n",
      "Epoch 7/10\n",
      "625/625 [==============================] - 9s 15ms/step - loss: 6.3043e-05 - accuracy: 0.9997 - val_loss: 0.0119 - val_accuracy: 0.9347\n",
      "Epoch 8/10\n",
      "625/625 [==============================] - 10s 16ms/step - loss: 1.0525e-04 - accuracy: 0.9994 - val_loss: 0.0138 - val_accuracy: 0.9242\n",
      "Epoch 9/10\n",
      "625/625 [==============================] - 9s 14ms/step - loss: 9.5082e-05 - accuracy: 0.9995 - val_loss: 0.0177 - val_accuracy: 0.9053\n",
      "Epoch 10/10\n",
      "625/625 [==============================] - 9s 14ms/step - loss: 1.8032e-04 - accuracy: 0.9988 - val_loss: 0.0158 - val_accuracy: 0.9142\n",
      "Defended accuracy on adversarial images: [1.5895861774823518e-21, 1.0]\n",
      "Defended accuracy on regular images: [0.01583571918308735, 0.9142000079154968]\n"
     ]
    }
   ],
   "source": [
    "x_adversarial_train, y_adversarial_train = next(generate_adversarials(20000))\n",
    "model.fit(x_adversarial_train, y_adversarial_train,\n",
    "          batch_size=32,\n",
    "          epochs=10,\n",
    "          validation_data=(x_test, y_test))\n",
    "print(\"Defended accuracy on adversarial images:\", model.evaluate(x=x_adversarial_test, y=y_adversarial_test, verbose=0))\n",
    "print(\"Defended accuracy on regular images:\", model.evaluate(x=x_test, y=y_test, verbose=0))"
   ]
  },
  {
   "cell_type": "code",
   "execution_count": 14,
   "metadata": {},
   "outputs": [
    {
     "name": "stdout",
     "output_type": "stream",
     "text": [
      "Base accuracy on adversarial images: [0.02932284213602543, 0.8375999927520752]\n"
     ]
    }
   ],
   "source": [
    "x_adversarial_test, y_adversarial_test = next(generate_adversarials(10000))\n",
    "print(\"Base accuracy on adversarial images:\", model.evaluate(x=x_adversarial_test, y=y_adversarial_test, verbose=0))"
   ]
  },
  {
   "cell_type": "code",
   "execution_count": null,
   "metadata": {},
   "outputs": [],
   "source": []
  }
 ],
 "metadata": {
  "kernelspec": {
   "display_name": "Python 3",
   "language": "python",
   "name": "python3"
  },
  "language_info": {
   "codemirror_mode": {
    "name": "ipython",
    "version": 3
   },
   "file_extension": ".py",
   "mimetype": "text/x-python",
   "name": "python",
   "nbconvert_exporter": "python",
   "pygments_lexer": "ipython3",
   "version": "3.9.16"
  },
  "orig_nbformat": 4
 },
 "nbformat": 4,
 "nbformat_minor": 2
}
