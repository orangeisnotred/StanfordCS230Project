{
 "cells": [
  {
   "cell_type": "code",
   "execution_count": 1,
   "metadata": {},
   "outputs": [],
   "source": [
    "import tensorflow as tf\n",
    "from tensorflow.keras.datasets import mnist\n",
    "from tensorflow.keras.applications import VGG16, ResNet50\n",
    "from efficientnet.tfkeras import EfficientNetB5\n",
    "from tensorflow.keras.models import Model\n",
    "from tensorflow.keras.models import load_model\n",
    "import matplotlib.pyplot as plt\n",
    "import matplotlib.image as mpimg\n",
    "import os\n",
    "\n",
    "import numpy as np\n",
    "import random\n",
    "import cv2\n",
    "import matplotlib.pyplot as plt\n",
    "\n",
    "from cleverhans.tf2.attacks.projected_gradient_descent import projected_gradient_descent\n",
    "from cleverhans.tf2.attacks.fast_gradient_method import fast_gradient_method\n",
    "\n",
    "os.environ[\"TF_METAL_ENABLED\"] = \"1\""
   ]
  },
  {
   "cell_type": "code",
   "execution_count": 2,
   "metadata": {},
   "outputs": [],
   "source": [
    "from run_models import MyDataset, MyModel, vgg16_training, effnetB5_training, resnet50_training, ensemble_training\n"
   ]
  },
  {
   "cell_type": "code",
   "execution_count": 3,
   "metadata": {},
   "outputs": [
    {
     "name": "stdout",
     "output_type": "stream",
     "text": [
      "Load from:  dataset_mnist_train_2000_test_100/train_images.npy\n",
      "Load from:  dataset_mnist_train_2000_test_100/test_images.npy\n",
      "Load from:  dataset_mnist_train_2000_test_100/train_labels.npy\n",
      "Load from:  dataset_mnist_train_2000_test_100/test_labels.npy\n",
      "Load from:  dataset_mnist_train_2000_test_100/train_images_fgsm_vgg16.npy\n",
      "Load from:  dataset_mnist_train_2000_test_100/train_images_fgsm_resnet50.npy\n",
      "Load from:  dataset_mnist_train_2000_test_100/test_images_fgsm_vgg16.npy\n",
      "Load from:  dataset_mnist_train_2000_test_100/test_images_fgsm_resnet50.npy\n"
     ]
    }
   ],
   "source": [
    "mydata = MyDataset('preprocessed', (224, 224), processed_data_dir='dataset_mnist_train_2000_test_100')"
   ]
  },
  {
   "attachments": {},
   "cell_type": "markdown",
   "metadata": {},
   "source": [
    "### VGG16\n"
   ]
  },
  {
   "cell_type": "code",
   "execution_count": 4,
   "metadata": {},
   "outputs": [
    {
     "name": "stdout",
     "output_type": "stream",
     "text": [
      "Metal device set to: Apple M1 Max\n",
      "\n",
      "systemMemory: 32.00 GB\n",
      "maxCacheSize: 10.67 GB\n",
      "\n"
     ]
    },
    {
     "name": "stderr",
     "output_type": "stream",
     "text": [
      "2023-05-22 01:55:16.383170: I tensorflow/core/common_runtime/pluggable_device/pluggable_device_factory.cc:303] Could not identify NUMA node of platform GPU ID 0, defaulting to 0. Your kernel may not have been built with NUMA support.\n",
      "2023-05-22 01:55:16.383200: I tensorflow/core/common_runtime/pluggable_device/pluggable_device_factory.cc:269] Created TensorFlow device (/job:localhost/replica:0/task:0/device:GPU:0 with 0 MB memory) -> physical PluggableDevice (device: 0, name: METAL, pci bus id: <undefined>)\n"
     ]
    },
    {
     "name": "stdout",
     "output_type": "stream",
     "text": [
      "Model: \"sequential\"\n",
      "_________________________________________________________________\n",
      " Layer (type)                Output Shape              Param #   \n",
      "=================================================================\n",
      " vgg16 (Functional)          (None, 7, 7, 512)         14714688  \n",
      "                                                                 \n",
      " flatten (Flatten)           (None, 25088)             0         \n",
      "                                                                 \n",
      " dense (Dense)               (None, 256)               6422784   \n",
      "                                                                 \n",
      " dense_1 (Dense)             (None, 10)                2570      \n",
      "                                                                 \n",
      "=================================================================\n",
      "Total params: 21140042 (80.64 MB)\n",
      "Trainable params: 6425354 (24.51 MB)\n",
      "Non-trainable params: 14714688 (56.13 MB)\n",
      "_________________________________________________________________\n",
      "saved_models_train_2000_test_100/mnist_vgg16_model.h5 Model Loaded!\n",
      "Model: \"sequential\"\n",
      "_________________________________________________________________\n",
      " Layer (type)                Output Shape              Param #   \n",
      "=================================================================\n",
      " vgg16 (Functional)          (None, 7, 7, 512)         14714688  \n",
      "                                                                 \n",
      " flatten (Flatten)           (None, 25088)             0         \n",
      "                                                                 \n",
      " dense (Dense)               (None, 256)               6422784   \n",
      "                                                                 \n",
      " dense_1 (Dense)             (None, 10)                2570      \n",
      "                                                                 \n",
      "=================================================================\n",
      "Total params: 21140042 (80.64 MB)\n",
      "Trainable params: 6425354 (24.51 MB)\n",
      "Non-trainable params: 14714688 (56.13 MB)\n",
      "_________________________________________________________________\n",
      "saved_models_train_2000_test_100/mnist_vgg16_model_with_fgsm_vgg16.h5 Model Loaded!\n"
     ]
    }
   ],
   "source": [
    "vgg16 = vgg16_training(mydata, model_name_set_to='vgg16',  preload_model='saved_models_train_2000_test_100/mnist_vgg16_model.h5')\n",
    "vgg16_fgsm_trained = vgg16_training(mydata, model_name_set_to='vgg16_fgsm_trained', preload_model='saved_models_train_2000_test_100/mnist_vgg16_model_with_fgsm_vgg16.h5')"
   ]
  },
  {
   "attachments": {},
   "cell_type": "markdown",
   "metadata": {},
   "source": [
    "Test vgg16 model with original test images."
   ]
  },
  {
   "cell_type": "code",
   "execution_count": 5,
   "metadata": {},
   "outputs": [
    {
     "name": "stderr",
     "output_type": "stream",
     "text": [
      "2023-05-22 01:55:24.343276: I tensorflow/core/grappler/optimizers/custom_graph_optimizer_registry.cc:114] Plugin optimizer for device_type GPU is enabled.\n"
     ]
    },
    {
     "name": "stdout",
     "output_type": "stream",
     "text": [
      "mnist_vgg16_model - Train loss: 0.010438578203320503. Train Accuracy: 0.9994999766349792\n",
      "mnist_vgg16_model - Test loss: 0.026431698352098465. Test Accuracy: 1.0\n"
     ]
    }
   ],
   "source": [
    "train_loss, train_accuracy = vgg16.model.evaluate(x=mydata.train_images, y=mydata.train_labels, batch_size=128, verbose=0)\n",
    "print(f'mnist_vgg16_model - Train loss: {train_loss}. Train Accuracy: {train_accuracy}')\n",
    "\n",
    "test_loss, test_accuracy = vgg16.model.evaluate(x=mydata.test_images, y=mydata.test_labels, batch_size=128, verbose=0)\n",
    "print(f'mnist_vgg16_model - Test loss: {test_loss}. Test Accuracy: {test_accuracy}')"
   ]
  },
  {
   "attachments": {},
   "cell_type": "markdown",
   "metadata": {},
   "source": [
    "Test vgg16 model with adversarial test images."
   ]
  },
  {
   "cell_type": "code",
   "execution_count": 6,
   "metadata": {},
   "outputs": [
    {
     "name": "stdout",
     "output_type": "stream",
     "text": [
      "mnist_vgg16_model on self-generated FGSM attrack data - Test loss: 1.9391045570373535. Test Accuracy: 0.4099999964237213\n"
     ]
    }
   ],
   "source": [
    "test_loss, test_accuracy = vgg16.model.evaluate(x=mydata.test_images_fgsm_vgg16, y=mydata.test_labels, batch_size=128, verbose=0)\n",
    "print(f'mnist_vgg16_model on self-generated FGSM attrack data - Test loss: {test_loss}. Test Accuracy: {test_accuracy}')"
   ]
  },
  {
   "attachments": {},
   "cell_type": "markdown",
   "metadata": {},
   "source": [
    "Test vgg16_fgsm_trained model with original and adversarial test images."
   ]
  },
  {
   "cell_type": "code",
   "execution_count": 7,
   "metadata": {},
   "outputs": [
    {
     "name": "stderr",
     "output_type": "stream",
     "text": [
      "2023-05-22 01:55:54.466878: I tensorflow/core/grappler/optimizers/custom_graph_optimizer_registry.cc:114] Plugin optimizer for device_type GPU is enabled.\n"
     ]
    },
    {
     "name": "stdout",
     "output_type": "stream",
     "text": [
      "vgg16_fgsm_trained - Train loss: 0.2762700617313385. Train Accuracy: 0.9135000109672546\n",
      "vgg16_fgsm_trained - Test loss: 0.0426224023103714. Test Accuracy: 1.0\n",
      "vgg16_fgsm_trained on self-generated FGSM attrack data - Test loss: 0.35638272762298584. Test Accuracy: 0.8799999952316284\n"
     ]
    }
   ],
   "source": [
    "train_loss, train_accuracy = vgg16_fgsm_trained.model.evaluate(x=mydata.train_images_fgsm_vgg16, y=mydata.train_labels, batch_size=128, verbose=0)\n",
    "print(f'vgg16_fgsm_trained - Train loss: {train_loss}. Train Accuracy: {train_accuracy}')\n",
    "\n",
    "test_loss, test_accuracy = vgg16_fgsm_trained.model.evaluate(x=mydata.test_images, y=mydata.test_labels, batch_size=128, verbose=0)\n",
    "print(f'vgg16_fgsm_trained - Test loss: {test_loss}. Test Accuracy: {test_accuracy}')\n",
    "test_loss, test_accuracy = vgg16_fgsm_trained.model.evaluate(x=mydata.test_images_fgsm_vgg16, y=mydata.test_labels, batch_size=128, verbose=0)\n",
    "print(f'vgg16_fgsm_trained on self-generated FGSM attrack data - Test loss: {test_loss}. Test Accuracy: {test_accuracy}')"
   ]
  },
  {
   "cell_type": "code",
   "execution_count": 8,
   "metadata": {},
   "outputs": [
    {
     "name": "stdout",
     "output_type": "stream",
     "text": [
      "vgg16_fgsm_trained on resnet50 FGSM attrack data - Test loss: 0.7982957363128662. Test Accuracy: 0.7200000286102295\n"
     ]
    }
   ],
   "source": [
    "test_loss, test_accuracy = vgg16_fgsm_trained.model.evaluate(x=mydata.test_images_fgsm_resnet50, y=mydata.test_labels, batch_size=128, verbose=0)\n",
    "print(f'vgg16_fgsm_trained on resnet50 FGSM attrack data - Test loss: {test_loss}. Test Accuracy: {test_accuracy}')"
   ]
  },
  {
   "cell_type": "code",
   "execution_count": null,
   "metadata": {},
   "outputs": [],
   "source": []
  },
  {
   "cell_type": "code",
   "execution_count": null,
   "metadata": {},
   "outputs": [],
   "source": []
  },
  {
   "attachments": {},
   "cell_type": "markdown",
   "metadata": {},
   "source": [
    "### ResNet50"
   ]
  },
  {
   "cell_type": "code",
   "execution_count": 9,
   "metadata": {},
   "outputs": [
    {
     "name": "stdout",
     "output_type": "stream",
     "text": [
      "Model: \"sequential\"\n",
      "_________________________________________________________________\n",
      " Layer (type)                Output Shape              Param #   \n",
      "=================================================================\n",
      " resnet50 (Functional)       (None, 7, 7, 2048)        23587712  \n",
      "                                                                 \n",
      " flatten (Flatten)           (None, 100352)            0         \n",
      "                                                                 \n",
      " dense (Dense)               (None, 256)               25690368  \n",
      "                                                                 \n",
      " dense_1 (Dense)             (None, 10)                2570      \n",
      "                                                                 \n",
      "=================================================================\n",
      "Total params: 49280650 (187.99 MB)\n",
      "Trainable params: 25692938 (98.01 MB)\n",
      "Non-trainable params: 23587712 (89.98 MB)\n",
      "_________________________________________________________________\n",
      "saved_models_train_2000_test_100/mnist_resnet50_model.h5 Model Loaded!\n",
      "Model: \"sequential\"\n",
      "_________________________________________________________________\n",
      " Layer (type)                Output Shape              Param #   \n",
      "=================================================================\n",
      " resnet50 (Functional)       (None, 7, 7, 2048)        23587712  \n",
      "                                                                 \n",
      " flatten (Flatten)           (None, 100352)            0         \n",
      "                                                                 \n",
      " dense (Dense)               (None, 256)               25690368  \n",
      "                                                                 \n",
      " dense_1 (Dense)             (None, 10)                2570      \n",
      "                                                                 \n",
      "=================================================================\n",
      "Total params: 49280650 (187.99 MB)\n",
      "Trainable params: 25692938 (98.01 MB)\n",
      "Non-trainable params: 23587712 (89.98 MB)\n",
      "_________________________________________________________________\n",
      "saved_models_train_2000_test_100/mnist_resnet50_model_with_fgsm_resnet50.h5 Model Loaded!\n"
     ]
    }
   ],
   "source": [
    "resnet50 = resnet50_training(mydata, model_name_set_to='resnet50',  preload_model='saved_models_train_2000_test_100/mnist_resnet50_model.h5')\n",
    "resnet50_fgsm_trained = resnet50_training(mydata, model_name_set_to='resnet50_fgsm_trained', preload_model='saved_models_train_2000_test_100/mnist_resnet50_model_with_fgsm_resnet50.h5')"
   ]
  },
  {
   "attachments": {},
   "cell_type": "markdown",
   "metadata": {},
   "source": [
    "Test resnet50 model with original test images."
   ]
  },
  {
   "cell_type": "code",
   "execution_count": 10,
   "metadata": {},
   "outputs": [
    {
     "name": "stderr",
     "output_type": "stream",
     "text": [
      "2023-05-22 01:56:29.100369: I tensorflow/core/grappler/optimizers/custom_graph_optimizer_registry.cc:114] Plugin optimizer for device_type GPU is enabled.\n"
     ]
    },
    {
     "name": "stdout",
     "output_type": "stream",
     "text": [
      "mnist_resnet50_model - Train loss: 0.22230477631092072. Train Accuracy: 0.9465000033378601\n",
      "mnist_resnet50_model - Test loss: 0.2559686601161957. Test Accuracy: 0.9300000071525574\n"
     ]
    }
   ],
   "source": [
    "train_loss, train_accuracy = resnet50.model.evaluate(x=mydata.train_images, y=mydata.train_labels, batch_size=128, verbose=0)\n",
    "print(f'mnist_resnet50_model - Train loss: {train_loss}. Train Accuracy: {train_accuracy}')\n",
    "\n",
    "test_loss, test_accuracy = resnet50.model.evaluate(x=mydata.test_images, y=mydata.test_labels, batch_size=128, verbose=0)\n",
    "print(f'mnist_resnet50_model - Test loss: {test_loss}. Test Accuracy: {test_accuracy}')"
   ]
  },
  {
   "attachments": {},
   "cell_type": "markdown",
   "metadata": {},
   "source": [
    "Test resnet50 model with adversarial test images."
   ]
  },
  {
   "cell_type": "code",
   "execution_count": 11,
   "metadata": {},
   "outputs": [
    {
     "name": "stdout",
     "output_type": "stream",
     "text": [
      "mnist_resnet50_model on self-generated FGSM attrack data - Test loss: 4.515739917755127. Test Accuracy: 0.11999999731779099\n"
     ]
    }
   ],
   "source": [
    "test_loss, test_accuracy = resnet50.model.evaluate(x=mydata.test_images_fgsm_resnet50, y=mydata.test_labels, batch_size=128, verbose=0)\n",
    "print(f'mnist_resnet50_model on self-generated FGSM attrack data - Test loss: {test_loss}. Test Accuracy: {test_accuracy}')"
   ]
  },
  {
   "attachments": {},
   "cell_type": "markdown",
   "metadata": {},
   "source": [
    "Test resnet50_fgsm_trained model with original and adversarial test images."
   ]
  },
  {
   "cell_type": "code",
   "execution_count": 12,
   "metadata": {},
   "outputs": [
    {
     "name": "stderr",
     "output_type": "stream",
     "text": [
      "2023-05-22 01:56:45.356500: I tensorflow/core/grappler/optimizers/custom_graph_optimizer_registry.cc:114] Plugin optimizer for device_type GPU is enabled.\n"
     ]
    },
    {
     "name": "stdout",
     "output_type": "stream",
     "text": [
      "resnet50_fgsm_trained - Train loss: 0.5554242134094238. Train Accuracy: 0.8144999742507935\n",
      "resnet50_fgsm_trained - Test loss: 0.8940862417221069. Test Accuracy: 0.6299999952316284\n",
      "resnet50_fgsm_trained on self-generated FGSM attrack data - Test loss: 0.6128746867179871. Test Accuracy: 0.7699999809265137\n"
     ]
    }
   ],
   "source": [
    "train_loss, train_accuracy = resnet50_fgsm_trained.model.evaluate(x=mydata.train_images_fgsm_resnet50, y=mydata.train_labels, batch_size=128, verbose=0)\n",
    "print(f'resnet50_fgsm_trained - Train loss: {train_loss}. Train Accuracy: {train_accuracy}')\n",
    "\n",
    "test_loss, test_accuracy = resnet50_fgsm_trained.model.evaluate(x=mydata.test_images, y=mydata.test_labels, batch_size=128, verbose=0)\n",
    "print(f'resnet50_fgsm_trained - Test loss: {test_loss}. Test Accuracy: {test_accuracy}')\n",
    "\n",
    "test_loss, test_accuracy = resnet50_fgsm_trained.model.evaluate(x=mydata.test_images_fgsm_resnet50, y=mydata.test_labels, batch_size=128, verbose=0)\n",
    "print(f'resnet50_fgsm_trained on self-generated FGSM attrack data - Test loss: {test_loss}. Test Accuracy: {test_accuracy}')"
   ]
  },
  {
   "cell_type": "code",
   "execution_count": null,
   "metadata": {},
   "outputs": [],
   "source": []
  },
  {
   "cell_type": "code",
   "execution_count": null,
   "metadata": {},
   "outputs": [],
   "source": []
  },
  {
   "cell_type": "code",
   "execution_count": null,
   "metadata": {},
   "outputs": [],
   "source": []
  },
  {
   "attachments": {},
   "cell_type": "markdown",
   "metadata": {},
   "source": [
    "### VGG16 Ensemble\n"
   ]
  },
  {
   "cell_type": "code",
   "execution_count": 13,
   "metadata": {},
   "outputs": [
    {
     "name": "stdout",
     "output_type": "stream",
     "text": [
      "Model: \"sequential\"\n",
      "_________________________________________________________________\n",
      " Layer (type)                Output Shape              Param #   \n",
      "=================================================================\n",
      " vgg16 (Functional)          (None, 7, 7, 512)         14714688  \n",
      "                                                                 \n",
      " flatten (Flatten)           (None, 25088)             0         \n",
      "                                                                 \n",
      " dense (Dense)               (None, 256)               6422784   \n",
      "                                                                 \n",
      " dense_1 (Dense)             (None, 10)                2570      \n",
      "                                                                 \n",
      "=================================================================\n",
      "Total params: 21140042 (80.64 MB)\n",
      "Trainable params: 6425354 (24.51 MB)\n",
      "Non-trainable params: 14714688 (56.13 MB)\n",
      "_________________________________________________________________\n",
      "saved_model_vgg16_ensemble_vgg16_fgsm_trained_resnet50_fgsm_trained/mnist_vgg16_model_ensemble_adversarial.h5 Model Loaded!\n"
     ]
    }
   ],
   "source": [
    "vgg16_ensemble_trained = vgg16_training(mydata, model_name_set_to='vgg16_ensemble_trained',  preload_model='saved_model_vgg16_ensemble_vgg16_fgsm_trained_resnet50_fgsm_trained/mnist_vgg16_model_ensemble_adversarial.h5')\n"
   ]
  },
  {
   "cell_type": "code",
   "execution_count": 14,
   "metadata": {},
   "outputs": [
    {
     "name": "stderr",
     "output_type": "stream",
     "text": [
      "2023-05-22 01:56:59.524030: I tensorflow/core/grappler/optimizers/custom_graph_optimizer_registry.cc:114] Plugin optimizer for device_type GPU is enabled.\n"
     ]
    },
    {
     "name": "stdout",
     "output_type": "stream",
     "text": [
      "vgg16_ensemble_trained - Test loss: 0.06635254621505737. Test Accuracy: 0.9599999785423279\n"
     ]
    }
   ],
   "source": [
    "test_loss, test_accuracy = vgg16_ensemble_trained.model.evaluate(x=mydata.test_images, y=mydata.test_labels, batch_size=128, verbose=0)\n",
    "print(f'vgg16_ensemble_trained - Test loss: {test_loss}. Test Accuracy: {test_accuracy}')"
   ]
  },
  {
   "cell_type": "code",
   "execution_count": 15,
   "metadata": {},
   "outputs": [
    {
     "name": "stdout",
     "output_type": "stream",
     "text": [
      "vgg16_ensemble_trained on VGG16 FGSM attrack data - Test loss: 0.04391443356871605. Test Accuracy: 0.9900000095367432\n",
      "vgg16_ensemble_trained on resnet50 FGSM attrack data - Test loss: 0.8983032703399658. Test Accuracy: 0.7300000190734863\n"
     ]
    }
   ],
   "source": [
    "test_loss, test_accuracy = vgg16_ensemble_trained.model.evaluate(x=mydata.test_images_fgsm_vgg16, y=mydata.test_labels, batch_size=128, verbose=0)\n",
    "print(f'vgg16_ensemble_trained on VGG16 FGSM attrack data - Test loss: {test_loss}. Test Accuracy: {test_accuracy}')\n",
    "\n",
    "test_loss, test_accuracy = vgg16_ensemble_trained.model.evaluate(x=mydata.test_images_fgsm_resnet50, y=mydata.test_labels, batch_size=128, verbose=0)\n",
    "print(f'vgg16_ensemble_trained on resnet50 FGSM attrack data - Test loss: {test_loss}. Test Accuracy: {test_accuracy}')"
   ]
  },
  {
   "cell_type": "code",
   "execution_count": null,
   "metadata": {},
   "outputs": [],
   "source": []
  },
  {
   "cell_type": "code",
   "execution_count": null,
   "metadata": {},
   "outputs": [],
   "source": []
  },
  {
   "cell_type": "code",
   "execution_count": 25,
   "metadata": {},
   "outputs": [],
   "source": [
    "test_adv_images_generated_resnet50_fgsm_trained = np.load('dataset_mnist_train_2000_test_100_resnet50_fgsm_trained/test_images_fgsm_resnet50.npy')\n",
    "test_adv_images_generated_vgg16_fgsm_trained = np.load('dataset_mnist_train_2000_test_100_vgg16_fgsm_trained/test_images_fgsm_vgg16.npy')\n",
    "test_adv_images_generated_vgg16_ensemble_trained = np.load('dataset_mnist_train_2000_test_100_vgg16_ensemble_trained/test_images_fgsm_vgg16.npy')\n",
    "\n",
    "test_adv_images_generated_resnet101_fgsm = np.load('dataset_mnist_train_2000_test_100/test_images_fgsm_resnet101.npy')\n",
    "test_adv_images_generated_resnet101_pgd = np.load('dataset_mnist_train_2000_test_100/test_images_pgd_resnet101.npy')"
   ]
  },
  {
   "cell_type": "code",
   "execution_count": 29,
   "metadata": {},
   "outputs": [
    {
     "name": "stdout",
     "output_type": "stream",
     "text": [
      "resnet50_fgsm_trained on resnet50_fgsm_trained FGSM attrack data - Test loss: 3.3058838844299316. Test Accuracy: 0.1599999964237213\n",
      "resnet50_fgsm_trained on vgg16_fgsm_trained FGSM attrack data - Test loss: 0.5773460268974304. Test Accuracy: 0.800000011920929\n",
      "resnet50_fgsm_trained on vgg16_ensemble_trained FGSM attrack data - Test loss: 0.5644710659980774. Test Accuracy: 0.7900000214576721\n",
      "resnet50_fgsm_trained on resnet101 FGSM attrack data - Test loss: 0.7307191491127014. Test Accuracy: 0.7599999904632568\n",
      "resnet50_fgsm_trained on resnet101 PGD attrack data - Test loss: 0.8732733130455017. Test Accuracy: 0.6399999856948853\n"
     ]
    }
   ],
   "source": [
    "test_loss, test_accuracy = resnet50_fgsm_trained.model.evaluate(x=test_adv_images_generated_resnet50_fgsm_trained, y=mydata.test_labels, batch_size=128, verbose=0)\n",
    "print(f'resnet50_fgsm_trained on resnet50_fgsm_trained FGSM attrack data - Test loss: {test_loss}. Test Accuracy: {test_accuracy}')\n",
    "\n",
    "test_loss, test_accuracy = resnet50_fgsm_trained.model.evaluate(x=test_adv_images_generated_vgg16_fgsm_trained, y=mydata.test_labels, batch_size=128, verbose=0)\n",
    "print(f'resnet50_fgsm_trained on vgg16_fgsm_trained FGSM attrack data - Test loss: {test_loss}. Test Accuracy: {test_accuracy}')\n",
    "\n",
    "test_loss, test_accuracy = resnet50_fgsm_trained.model.evaluate(x=test_adv_images_generated_vgg16_ensemble_trained, y=mydata.test_labels, batch_size=128, verbose=0)\n",
    "print(f'resnet50_fgsm_trained on vgg16_ensemble_trained FGSM attrack data - Test loss: {test_loss}. Test Accuracy: {test_accuracy}')\n",
    "\n",
    "test_loss, test_accuracy = resnet50_fgsm_trained.model.evaluate(x=test_adv_images_generated_resnet101_fgsm, y=mydata.test_labels, batch_size=128, verbose=0)\n",
    "print(f'resnet50_fgsm_trained on resnet101 FGSM attrack data - Test loss: {test_loss}. Test Accuracy: {test_accuracy}')\n",
    "\n",
    "test_loss, test_accuracy = resnet50_fgsm_trained.model.evaluate(x=test_adv_images_generated_resnet101_pgd, y=mydata.test_labels, batch_size=128, verbose=0)\n",
    "print(f'resnet50_fgsm_trained on resnet101 PGD attrack data - Test loss: {test_loss}. Test Accuracy: {test_accuracy}')"
   ]
  },
  {
   "cell_type": "code",
   "execution_count": 30,
   "metadata": {},
   "outputs": [
    {
     "name": "stdout",
     "output_type": "stream",
     "text": [
      "vgg16_fgsm_trained on resnet50_fgsm_trained FGSM attrack data - Test loss: 0.8694702386856079. Test Accuracy: 0.6899999976158142\n",
      "vgg16_fgsm_trained on vgg16_fgsm_trained FGSM attrack data - Test loss: 0.7436202764511108. Test Accuracy: 0.7799999713897705\n",
      "vgg16_fgsm_trained on vgg16_ensemble_trained FGSM attrack data - Test loss: 0.6193116903305054. Test Accuracy: 0.800000011920929\n",
      "vgg16_fgsm_trained on resnet101 FGSM attrack data - Test loss: 1.0418117046356201. Test Accuracy: 0.6299999952316284\n",
      "vgg16_fgsm_trained on resnet101 PGD attrack data - Test loss: 0.06937707215547562. Test Accuracy: 1.0\n"
     ]
    }
   ],
   "source": [
    "test_loss, test_accuracy = vgg16_fgsm_trained.model.evaluate(x=test_adv_images_generated_resnet50_fgsm_trained, y=mydata.test_labels, batch_size=128, verbose=0)\n",
    "print(f'vgg16_fgsm_trained on resnet50_fgsm_trained FGSM attrack data - Test loss: {test_loss}. Test Accuracy: {test_accuracy}')\n",
    "\n",
    "test_loss, test_accuracy = vgg16_fgsm_trained.model.evaluate(x=test_adv_images_generated_vgg16_fgsm_trained, y=mydata.test_labels, batch_size=128, verbose=0)\n",
    "print(f'vgg16_fgsm_trained on vgg16_fgsm_trained FGSM attrack data - Test loss: {test_loss}. Test Accuracy: {test_accuracy}')\n",
    "\n",
    "test_loss, test_accuracy = vgg16_fgsm_trained.model.evaluate(x=test_adv_images_generated_vgg16_ensemble_trained, y=mydata.test_labels, batch_size=128, verbose=0)\n",
    "print(f'vgg16_fgsm_trained on vgg16_ensemble_trained FGSM attrack data - Test loss: {test_loss}. Test Accuracy: {test_accuracy}')\n",
    "\n",
    "test_loss, test_accuracy = vgg16_fgsm_trained.model.evaluate(x=test_adv_images_generated_resnet101_fgsm, y=mydata.test_labels, batch_size=128, verbose=0)\n",
    "print(f'vgg16_fgsm_trained on resnet101 FGSM attrack data - Test loss: {test_loss}. Test Accuracy: {test_accuracy}')\n",
    "\n",
    "test_loss, test_accuracy = vgg16_fgsm_trained.model.evaluate(x=test_adv_images_generated_resnet101_pgd, y=mydata.test_labels, batch_size=128, verbose=0)\n",
    "print(f'vgg16_fgsm_trained on resnet101 PGD attrack data - Test loss: {test_loss}. Test Accuracy: {test_accuracy}')"
   ]
  },
  {
   "cell_type": "code",
   "execution_count": 31,
   "metadata": {},
   "outputs": [
    {
     "name": "stdout",
     "output_type": "stream",
     "text": [
      "vgg16_ensemble_trained on resnet50_fgsm_trained FGSM attrack data - Test loss: 0.9242722988128662. Test Accuracy: 0.6800000071525574\n",
      "vgg16_ensemble_trained on vgg16_fgsm_trained FGSM attrack data - Test loss: 0.07603666931390762. Test Accuracy: 0.9599999785423279\n",
      "vgg16_ensemble_trained on vgg16_ensemble_trained FGSM attrack data - Test loss: 0.07602505385875702. Test Accuracy: 0.9900000095367432\n",
      "vgg16_ensemble_trained on resnet101 FGSM attrack data - Test loss: 0.8631994724273682. Test Accuracy: 0.7200000286102295\n",
      "vgg16_ensemble_trained on resnet101 PGD attrack data - Test loss: 0.1221960037946701. Test Accuracy: 0.949999988079071\n"
     ]
    }
   ],
   "source": [
    "test_loss, test_accuracy = vgg16_ensemble_trained.model.evaluate(x=test_adv_images_generated_resnet50_fgsm_trained, y=mydata.test_labels, batch_size=128, verbose=0)\n",
    "print(f'vgg16_ensemble_trained on resnet50_fgsm_trained FGSM attrack data - Test loss: {test_loss}. Test Accuracy: {test_accuracy}')\n",
    "\n",
    "test_loss, test_accuracy = vgg16_ensemble_trained.model.evaluate(x=test_adv_images_generated_vgg16_fgsm_trained, y=mydata.test_labels, batch_size=128, verbose=0)\n",
    "print(f'vgg16_ensemble_trained on vgg16_fgsm_trained FGSM attrack data - Test loss: {test_loss}. Test Accuracy: {test_accuracy}')\n",
    "\n",
    "test_loss, test_accuracy = vgg16_ensemble_trained.model.evaluate(x=test_adv_images_generated_vgg16_ensemble_trained, y=mydata.test_labels, batch_size=128, verbose=0)\n",
    "print(f'vgg16_ensemble_trained on vgg16_ensemble_trained FGSM attrack data - Test loss: {test_loss}. Test Accuracy: {test_accuracy}')\n",
    "\n",
    "test_loss, test_accuracy = vgg16_ensemble_trained.model.evaluate(x=test_adv_images_generated_resnet101_fgsm, y=mydata.test_labels, batch_size=128, verbose=0)\n",
    "print(f'vgg16_ensemble_trained on resnet101 FGSM attrack data - Test loss: {test_loss}. Test Accuracy: {test_accuracy}')\n",
    "\n",
    "test_loss, test_accuracy = vgg16_ensemble_trained.model.evaluate(x=test_adv_images_generated_resnet101_pgd, y=mydata.test_labels, batch_size=128, verbose=0)\n",
    "print(f'vgg16_ensemble_trained on resnet101 PGD attrack data - Test loss: {test_loss}. Test Accuracy: {test_accuracy}')"
   ]
  },
  {
   "cell_type": "code",
   "execution_count": null,
   "metadata": {},
   "outputs": [],
   "source": []
  },
  {
   "cell_type": "code",
   "execution_count": null,
   "metadata": {},
   "outputs": [],
   "source": []
  },
  {
   "cell_type": "code",
   "execution_count": null,
   "metadata": {},
   "outputs": [],
   "source": []
  },
  {
   "cell_type": "code",
   "execution_count": null,
   "metadata": {},
   "outputs": [],
   "source": []
  }
 ],
 "metadata": {
  "kernelspec": {
   "display_name": "cs230project",
   "language": "python",
   "name": "python3"
  },
  "language_info": {
   "codemirror_mode": {
    "name": "ipython",
    "version": 3
   },
   "file_extension": ".py",
   "mimetype": "text/x-python",
   "name": "python",
   "nbconvert_exporter": "python",
   "pygments_lexer": "ipython3",
   "version": "3.9.16"
  },
  "orig_nbformat": 4
 },
 "nbformat": 4,
 "nbformat_minor": 2
}
